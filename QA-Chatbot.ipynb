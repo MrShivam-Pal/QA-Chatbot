{
 "cells": [
  {
   "cell_type": "code",
   "execution_count": 54,
   "metadata": {},
   "outputs": [],
   "source": [
    "from langchain.llms import OpenAI\n",
    "from langchain import HuggingFaceHub\n",
    "from langchain.chat_models import ChatOpenAI\n",
    "from langchain.schema import HumanMessage , SystemMessage , AIMessage , StrOutputParser\n",
    "from langchain.prompts import PromptTemplate\n",
    "from langchain.prompts.chat import ChatPromptTemplate\n",
    "from langchain.chains import LLMChain , SimpleSequentialChain , SequentialChain\n",
    "import os"
   ]
  },
  {
   "cell_type": "code",
   "execution_count": 40,
   "metadata": {},
   "outputs": [],
   "source": [
    "os.environ['OPENAI_API_KEY'] = \"KEY\"\n",
    "os.environ['HUGGINGFACEHUB_API_TOKEN'] = \"KEY\""
   ]
  },
  {
   "cell_type": "code",
   "execution_count": 42,
   "metadata": {},
   "outputs": [],
   "source": [
    "openai_model = OpenAI(temperature=0.7)\n",
    "huggingface_model = HuggingFaceHub(repo_id=\"google/flan-t5-large\" ,  model_kwargs={\"temperature\" : 0 , \"max_length\" : 64})"
   ]
  },
  {
   "cell_type": "code",
   "execution_count": 43,
   "metadata": {},
   "outputs": [],
   "source": [
    "prompt1  = PromptTemplate(\n",
    "    input_variables=['country'],\n",
    "    template=\"tell me capital of country {country}\"\n",
    ")\n",
    "chain1 = LLMChain(llm=openai_model , prompt=prompt1 , output_key=\"capital\")\n",
    "\n",
    "prompt2  = PromptTemplate(\n",
    "    input_variables=['capital'],\n",
    "    template=\"tell me about capital {capital}\"\n",
    ")\n",
    "chain2 = LLMChain(llm=openai_model , prompt=prompt2 , output_key=\"text\")\n",
    "\n",
    "# chain = SimpleSequentialChain(chains=[chain1 , chain2]) \n",
    "chain = SequentialChain(chains=[chain1 , chain2] , input_variables=['country'] , output_variables=['capital' , 'text'])"
   ]
  },
  {
   "cell_type": "code",
   "execution_count": 44,
   "metadata": {},
   "outputs": [
    {
     "data": {
      "text/plain": [
       "{'country': 'india',\n",
       " 'capital': '\\n\\nThe capital of India is New Delhi. ',\n",
       " 'text': \"It is located in the northern part of the country and is the second most populous city after Mumbai. New Delhi was established as the capital of India in 1911 during British colonial rule and became the capital of independent India in 1947.\\n\\nNew Delhi is a bustling city with a rich history and culture. It is home to many important government buildings, including the Rashtrapati Bhavan (President's House) and the Parliament House. The city also has several famous landmarks such as the India Gate, a war memorial, and the Lotus Temple, a Bahá'í House of Worship.\\n\\nNew Delhi is a major center for commerce, finance, and tourism. It is also known for its diverse cuisine, with influences from different regions of India as well as international cuisines. The city is well-connected through an extensive network of roads, railways, and airways.\\n\\nAside from New Delhi, other major cities in India include Mumbai, Kolkata, Chennai, and Bengaluru. Each of these cities serves as a capital for different states within India. Together, they contribute to the country's economic, cultural, and political growth.\"}"
      ]
     },
     "execution_count": 44,
     "metadata": {},
     "output_type": "execute_result"
    }
   ],
   "source": [
    "chain.invoke(\"india\")"
   ]
  },
  {
   "cell_type": "code",
   "execution_count": 51,
   "metadata": {},
   "outputs": [],
   "source": [
    "template = \"you are helpful assistant. when user given any input , you should 5 generate synonyms for that word\"\n",
    "human_input  = \"{text}\"\n",
    "chatprompt  = ChatPromptTemplate.from_messages([('system' , template) , (\"human\" , human_input)])\n",
    "\n",
    "model = ChatOpenAI(temperature=0.7)"
   ]
  },
  {
   "cell_type": "code",
   "execution_count": 48,
   "metadata": {},
   "outputs": [
    {
     "name": "stderr",
     "output_type": "stream",
     "text": [
      "c:\\Users\\Shivam\\Documents\\AI-ML\\Projects\\Deeplearning\\QA-Chatbot-with-Hugging-face-deploy\\myenv\\lib\\site-packages\\langchain_core\\_api\\deprecation.py:117: LangChainDeprecationWarning: The function `__call__` was deprecated in LangChain 0.1.7 and will be removed in 0.2.0. Use invoke instead.\n",
      "  warn_deprecated(\n"
     ]
    },
    {
     "data": {
      "text/plain": [
       "AIMessage(content=\"Why did the AI break up with its computer? It couldn't handle its motherboard issues!\", response_metadata={'finish_reason': 'stop', 'logprobs': None})"
      ]
     },
     "execution_count": 48,
     "metadata": {},
     "output_type": "execute_result"
    }
   ],
   "source": [
    "model([SystemMessage(content=\"you are comedian AI Assistant\"),\n",
    "      HumanMessage(content=\"please provide some comedy punchline on AI\")])"
   ]
  },
  {
   "cell_type": "code",
   "execution_count": 55,
   "metadata": {},
   "outputs": [],
   "source": [
    "chain = chatprompt | model | StrOutputParser()"
   ]
  },
  {
   "cell_type": "code",
   "execution_count": 56,
   "metadata": {},
   "outputs": [
    {
     "data": {
      "text/plain": [
       "'1. Accurate\\n2. Right\\n3. Proper\\n4. Exact\\n5. True'"
      ]
     },
     "execution_count": 56,
     "metadata": {},
     "output_type": "execute_result"
    }
   ],
   "source": [
    "chain.invoke({\"text\" : \"correct\"})"
   ]
  },
  {
   "cell_type": "code",
   "execution_count": null,
   "metadata": {},
   "outputs": [],
   "source": []
  }
 ],
 "metadata": {
  "kernelspec": {
   "display_name": "Python 3",
   "language": "python",
   "name": "python3"
  },
  "language_info": {
   "codemirror_mode": {
    "name": "ipython",
    "version": 3
   },
   "file_extension": ".py",
   "mimetype": "text/x-python",
   "name": "python",
   "nbconvert_exporter": "python",
   "pygments_lexer": "ipython3",
   "version": "3.9.18"
  }
 },
 "nbformat": 4,
 "nbformat_minor": 2
}
